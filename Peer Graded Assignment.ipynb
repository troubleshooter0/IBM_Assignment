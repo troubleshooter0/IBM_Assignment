{
 "cells": [
  {
   "cell_type": "markdown",
   "id": "0b7992de-01ae-496e-8087-5d3f1e04ea06",
   "metadata": {},
   "source": [
    "<h1>My Jupyter Notebook on IBM Watson Studio</h1>"
   ]
  },
  {
   "cell_type": "markdown",
   "id": "08d3f087-23f1-4922-ba27-e14092138ddb",
   "metadata": {},
   "source": [
    "__Durgeshwar__\n",
    "<p>IT Engineer</p>"
   ]
  },
  {
   "cell_type": "markdown",
   "id": "58e6c760-71ae-48c8-a01f-8f0ddf144eb0",
   "metadata": {},
   "source": [
    "*I am interested in data science because in current competitive data driven business environment data analysis skill is desirable for all companies and data science can help to achieve hierarchy.*"
   ]
  },
  {
   "cell_type": "markdown",
   "id": "4ad65d90-ebfd-4d01-b19f-394841767294",
   "metadata": {},
   "source": [
    "<h3>Addition of two numbers 7+8 is printed by computer program.</h3>"
   ]
  },
  {
   "cell_type": "code",
   "execution_count": 3,
   "id": "fc1ed8b4-076d-4b1c-af4a-951069d9c720",
   "metadata": {},
   "outputs": [
    {
     "name": "stdout",
     "output_type": "stream",
     "text": [
      "Hello reader this addition is done by computer program\n",
      "Addtition of two numbers 7 and 8 is \n",
      "15\n"
     ]
    }
   ],
   "source": [
    "print(\"Hello reader this addition is done by computer program\")\n",
    "print(\"Addtition of two numbers 7 and 8 is \")\n",
    "print(7+8)"
   ]
  },
  {
   "cell_type": "markdown",
   "id": "c7f364a7-7cda-4215-8bf2-447f47e84a8c",
   "metadata": {},
   "source": [
    "<html>\n",
    "<hr>\n",
    "<ul>\n",
    "    <li></li>\n",
    "</ul>\n",
    "<p>1)</p>\n",
    "<p>2)</p>\n",
    "    <a href=\"www.google.com\">Google</a>\n",
    "<img href=\"https://cdn.pixabay.com/photo/2016/09/15/21/02/alpaca-1672647_960_720.jpg\")\n",
    "%% This is strike through comment. This doesnt seen from pdf format%%\n",
    "</html>"
   ]
  },
  {
   "cell_type": "code",
   "execution_count": null,
   "id": "e17f88b9-d442-42b9-93ad-e33b0dbced05",
   "metadata": {},
   "outputs": [],
   "source": []
  }
 ],
 "metadata": {
  "kernelspec": {
   "display_name": "Python",
   "language": "python",
   "name": "conda-env-python-py"
  },
  "language_info": {
   "codemirror_mode": {
    "name": "ipython",
    "version": 3
   },
   "file_extension": ".py",
   "mimetype": "text/x-python",
   "name": "python",
   "nbconvert_exporter": "python",
   "pygments_lexer": "ipython3",
   "version": "3.7.12"
  }
 },
 "nbformat": 4,
 "nbformat_minor": 5
}
